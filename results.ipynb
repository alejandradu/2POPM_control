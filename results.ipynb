{
 "cells": [
  {
   "cell_type": "markdown",
   "metadata": {},
   "source": [
    "If you want to examine a 5MHz signal, you need to sample at at least 10MHz (Nyquist and Shannon theorems)."
   ]
  },
  {
   "cell_type": "code",
   "execution_count": null,
   "metadata": {
    "vscode": {
     "languageId": "plaintext"
    }
   },
   "outputs": [],
   "source": [
    "# {'serial': 61006126, 'type': 'pco.edge 4.2 CL', 'sub type': 0, 'interface type': 'Camera Link ME4', 'min exposure time': 0.0001, 'max exposure time': 10.0, 'min exposure step': 1e-05, 'min delay time': 0.0, 'max delay time': 1.0, 'min delay step': 1e-05, 'max \n",
    "# width': 2060, 'max height': 2048, 'min width': 40, 'min height': 16, 'roi steps': (20, 1), 'bit resolution': 16, 'roi is vert symmetric': True, 'roi is horz symmetric': False, 'has timestamp': True, 'has ascii-only timestamp': False, 'has acquire': True, 'has \n",
    "# extern acquire': True, 'has metadata': False, 'has ram': False, 'pixelrates': [95333333, 272250000], 'binning horz vec': [1, 2, 4]}\n",
    "\n",
    "# {'frame time ns': 28442854, 'frame time s': 0, 'exposure time ns': 9999441, 'exposure time s': 0, 'trigger system delay ns': 4294967295, 'trigger system jitter ns': 4294967295, 'trigger delay ns': 0, 'trigger delay s': 0}"
   ]
  },
  {
   "cell_type": "markdown",
   "metadata": {},
   "source": []
  }
 ],
 "metadata": {
  "language_info": {
   "name": "python"
  }
 },
 "nbformat": 4,
 "nbformat_minor": 2
}
